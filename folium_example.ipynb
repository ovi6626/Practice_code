{
 "cells": [
  {
   "cell_type": "code",
   "execution_count": null,
   "metadata": {},
   "outputs": [],
   "source": [
    "import pandas as pd\n",
    "import folium\n",
    "from folium.plugins import MarkerCluster\n",
    "\n",
    "state_geo = 'json file or json url'\n",
    "\n",
    "m = folium.Map(location=[['Latitude'], ['longitude']], tiles='cartodbpositron', zoom_start=7)\n",
    "\n",
    "# make markerCluster\n",
    "m_cluster = MarkerCluster().add_to(m)\n",
    "\n",
    "# use Dataframe\n",
    "for n in Dataframe.index:\n",
    "    location_val = [df.loc[n , 'Latitude'], df.loc[n, 'longitude']]\n",
    "    \n",
    "    name = df_silver.loc[n, 'column']\n",
    "    address = df_silver.loc[n, 'column']\n",
    "    popup_name = name + '&lt;br&gt;' + '(' + address + ')' + '&lt;/br&gt;'\n",
    "    \n",
    "    folium.Marker(\n",
    "        location=location_val,\n",
    "        popup=folium.Popup(popup_name, min_width=200, max_width=300),\n",
    "        icon=folium.Icon(color='red', icon='icon code', prefix='glyphicon')\n",
    "        ).add_to(m_cluster)\n",
    "\n",
    "# make Choropleth Map\n",
    "folium.Choropleth(\n",
    "    geo_data=state_geo,\n",
    "    name=\"show layer\",\n",
    "    data = Series or DataFrame\n",
    "    columns=[\"col\", \"value\"],\n",
    "    key_on=\"json key\",\n",
    "    \n",
    "    fill_color=\"YlOrRd\",\n",
    "    fill_opacity=0.7,\n",
    "    line_opacity=0.3,\n",
    "    \n",
    "    legend_name=\"str\",\n",
    ").add_to(m)\n",
    "\n",
    "folium.LayerControl().add_to(m)\n",
    "\n",
    "m"
   ]
  }
 ],
 "metadata": {
  "kernelspec": {
   "display_name": "Python 3.9.13 ('base')",
   "language": "python",
   "name": "python3"
  },
  "language_info": {
   "name": "python",
   "version": "3.9.13"
  },
  "orig_nbformat": 4,
  "vscode": {
   "interpreter": {
    "hash": "3ea6a6efe8a9aacfeec472417506e661f28c79af5358b75da02b29a3334b70cc"
   }
  }
 },
 "nbformat": 4,
 "nbformat_minor": 2
}
